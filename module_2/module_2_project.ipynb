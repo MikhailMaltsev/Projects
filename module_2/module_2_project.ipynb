{
 "cells": [
  {
   "cell_type": "markdown",
   "metadata": {},
   "source": [
    "# Введение"
   ]
  },
  {
   "cell_type": "markdown",
   "metadata": {},
   "source": [
    "Нас (возможно и вас) пригласили поучаствовать в одном из проектов UNICEF — международного подразделения ООН, чья миссия состоит в повышении уровня благополучия детей по всему миру. \n",
    "\n",
    "Суть проекта — отследить влияние условий жизни учащихся в возрасте от 15 до 22 лет на их успеваемость по математике, чтобы на ранней стадии выявлять студентов, находящихся в группе риска."
   ]
  },
  {
   "cell_type": "code",
   "execution_count": 52,
   "metadata": {},
   "outputs": [],
   "source": [
    "import pandas as pd\n",
    "import numpy as np\n",
    "import matplotlib.pyplot as plt\n",
    "import seaborn as sns\n",
    "from itertools import combinations\n",
    "from scipy.stats import ttest_ind"
   ]
  },
  {
   "cell_type": "markdown",
   "metadata": {},
   "source": [
    "# Ознакомление\n",
    "Для начала загрузим файл в датафрейм (ДФ), переименуем некоторые колонки для удобства и посмотрим развернутый ДФ."
   ]
  },
  {
   "cell_type": "code",
   "execution_count": 79,
   "metadata": {
    "scrolled": true
   },
   "outputs": [],
   "source": [
    "students = pd.read_csv('stud_math.csv')\n",
    "students.rename(columns={'studytime, granular': 'studytime_granular',\n",
    "                         'Pstatus': 'pstatus', 'Medu': 'medu', 'Fedu': 'fedu',\n",
    "                         'Mjob': 'mjob', 'Fjob': 'fjob'}, inplace=True)\n",
    "pd.set_option('max_columns', None)"
   ]
  },
  {
   "cell_type": "code",
   "execution_count": 54,
   "metadata": {
    "scrolled": true
   },
   "outputs": [
    {
     "data": {
      "text/html": [
       "<div>\n",
       "<style scoped>\n",
       "    .dataframe tbody tr th:only-of-type {\n",
       "        vertical-align: middle;\n",
       "    }\n",
       "\n",
       "    .dataframe tbody tr th {\n",
       "        vertical-align: top;\n",
       "    }\n",
       "\n",
       "    .dataframe thead th {\n",
       "        text-align: right;\n",
       "    }\n",
       "</style>\n",
       "<table border=\"1\" class=\"dataframe\">\n",
       "  <thead>\n",
       "    <tr style=\"text-align: right;\">\n",
       "      <th></th>\n",
       "      <th>school</th>\n",
       "      <th>sex</th>\n",
       "      <th>age</th>\n",
       "      <th>address</th>\n",
       "      <th>famsize</th>\n",
       "      <th>pstatus</th>\n",
       "      <th>medu</th>\n",
       "      <th>fedu</th>\n",
       "      <th>mjob</th>\n",
       "      <th>fjob</th>\n",
       "      <th>reason</th>\n",
       "      <th>guardian</th>\n",
       "      <th>traveltime</th>\n",
       "      <th>studytime</th>\n",
       "      <th>failures</th>\n",
       "      <th>schoolsup</th>\n",
       "      <th>famsup</th>\n",
       "      <th>paid</th>\n",
       "      <th>activities</th>\n",
       "      <th>nursery</th>\n",
       "      <th>studytime_granular</th>\n",
       "      <th>higher</th>\n",
       "      <th>internet</th>\n",
       "      <th>romantic</th>\n",
       "      <th>famrel</th>\n",
       "      <th>freetime</th>\n",
       "      <th>goout</th>\n",
       "      <th>health</th>\n",
       "      <th>absences</th>\n",
       "      <th>score</th>\n",
       "    </tr>\n",
       "  </thead>\n",
       "  <tbody>\n",
       "    <tr>\n",
       "      <th>223</th>\n",
       "      <td>GP</td>\n",
       "      <td>M</td>\n",
       "      <td>18</td>\n",
       "      <td>U</td>\n",
       "      <td>GT3</td>\n",
       "      <td>T</td>\n",
       "      <td>2.0</td>\n",
       "      <td>2.0</td>\n",
       "      <td>other</td>\n",
       "      <td>other</td>\n",
       "      <td>home</td>\n",
       "      <td>NaN</td>\n",
       "      <td>2.0</td>\n",
       "      <td>2.0</td>\n",
       "      <td>0.0</td>\n",
       "      <td>no</td>\n",
       "      <td>yes</td>\n",
       "      <td>yes</td>\n",
       "      <td>no</td>\n",
       "      <td>yes</td>\n",
       "      <td>-6.0</td>\n",
       "      <td>yes</td>\n",
       "      <td>yes</td>\n",
       "      <td>no</td>\n",
       "      <td>3.0</td>\n",
       "      <td>3.0</td>\n",
       "      <td>3.0</td>\n",
       "      <td>4.0</td>\n",
       "      <td>0.0</td>\n",
       "      <td>65.0</td>\n",
       "    </tr>\n",
       "    <tr>\n",
       "      <th>116</th>\n",
       "      <td>GP</td>\n",
       "      <td>M</td>\n",
       "      <td>15</td>\n",
       "      <td>U</td>\n",
       "      <td>GT3</td>\n",
       "      <td>T</td>\n",
       "      <td>4.0</td>\n",
       "      <td>4.0</td>\n",
       "      <td>other</td>\n",
       "      <td>teacher</td>\n",
       "      <td>reputation</td>\n",
       "      <td>father</td>\n",
       "      <td>2.0</td>\n",
       "      <td>2.0</td>\n",
       "      <td>0.0</td>\n",
       "      <td>no</td>\n",
       "      <td>yes</td>\n",
       "      <td>no</td>\n",
       "      <td>NaN</td>\n",
       "      <td>yes</td>\n",
       "      <td>-6.0</td>\n",
       "      <td>yes</td>\n",
       "      <td>no</td>\n",
       "      <td>no</td>\n",
       "      <td>4.0</td>\n",
       "      <td>4.0</td>\n",
       "      <td>3.0</td>\n",
       "      <td>2.0</td>\n",
       "      <td>2.0</td>\n",
       "      <td>70.0</td>\n",
       "    </tr>\n",
       "    <tr>\n",
       "      <th>30</th>\n",
       "      <td>GP</td>\n",
       "      <td>M</td>\n",
       "      <td>15</td>\n",
       "      <td>U</td>\n",
       "      <td>GT3</td>\n",
       "      <td>T</td>\n",
       "      <td>4.0</td>\n",
       "      <td>4.0</td>\n",
       "      <td>health</td>\n",
       "      <td>services</td>\n",
       "      <td>home</td>\n",
       "      <td>mother</td>\n",
       "      <td>NaN</td>\n",
       "      <td>2.0</td>\n",
       "      <td>0.0</td>\n",
       "      <td>no</td>\n",
       "      <td>yes</td>\n",
       "      <td>yes</td>\n",
       "      <td>no</td>\n",
       "      <td>no</td>\n",
       "      <td>-6.0</td>\n",
       "      <td>yes</td>\n",
       "      <td>yes</td>\n",
       "      <td>no</td>\n",
       "      <td>5.0</td>\n",
       "      <td>4.0</td>\n",
       "      <td>2.0</td>\n",
       "      <td>NaN</td>\n",
       "      <td>0.0</td>\n",
       "      <td>60.0</td>\n",
       "    </tr>\n",
       "    <tr>\n",
       "      <th>68</th>\n",
       "      <td>GP</td>\n",
       "      <td>F</td>\n",
       "      <td>15</td>\n",
       "      <td>R</td>\n",
       "      <td>LE3</td>\n",
       "      <td>T</td>\n",
       "      <td>2.0</td>\n",
       "      <td>2.0</td>\n",
       "      <td>health</td>\n",
       "      <td>NaN</td>\n",
       "      <td>reputation</td>\n",
       "      <td>mother</td>\n",
       "      <td>NaN</td>\n",
       "      <td>2.0</td>\n",
       "      <td>NaN</td>\n",
       "      <td>yes</td>\n",
       "      <td>yes</td>\n",
       "      <td>NaN</td>\n",
       "      <td>no</td>\n",
       "      <td>yes</td>\n",
       "      <td>-6.0</td>\n",
       "      <td>yes</td>\n",
       "      <td>yes</td>\n",
       "      <td>no</td>\n",
       "      <td>4.0</td>\n",
       "      <td>1.0</td>\n",
       "      <td>3.0</td>\n",
       "      <td>4.0</td>\n",
       "      <td>2.0</td>\n",
       "      <td>40.0</td>\n",
       "    </tr>\n",
       "    <tr>\n",
       "      <th>157</th>\n",
       "      <td>GP</td>\n",
       "      <td>F</td>\n",
       "      <td>18</td>\n",
       "      <td>R</td>\n",
       "      <td>GT3</td>\n",
       "      <td>T</td>\n",
       "      <td>1.0</td>\n",
       "      <td>1.0</td>\n",
       "      <td>at_home</td>\n",
       "      <td>other</td>\n",
       "      <td>course</td>\n",
       "      <td>mother</td>\n",
       "      <td>NaN</td>\n",
       "      <td>1.0</td>\n",
       "      <td>3.0</td>\n",
       "      <td>no</td>\n",
       "      <td>yes</td>\n",
       "      <td>no</td>\n",
       "      <td>yes</td>\n",
       "      <td>no</td>\n",
       "      <td>-3.0</td>\n",
       "      <td>yes</td>\n",
       "      <td>no</td>\n",
       "      <td>no</td>\n",
       "      <td>5.0</td>\n",
       "      <td>2.0</td>\n",
       "      <td>5.0</td>\n",
       "      <td>4.0</td>\n",
       "      <td>6.0</td>\n",
       "      <td>50.0</td>\n",
       "    </tr>\n",
       "    <tr>\n",
       "      <th>45</th>\n",
       "      <td>GP</td>\n",
       "      <td>F</td>\n",
       "      <td>15</td>\n",
       "      <td>U</td>\n",
       "      <td>LE3</td>\n",
       "      <td>A</td>\n",
       "      <td>4.0</td>\n",
       "      <td>3.0</td>\n",
       "      <td>other</td>\n",
       "      <td>other</td>\n",
       "      <td>course</td>\n",
       "      <td>mother</td>\n",
       "      <td>1.0</td>\n",
       "      <td>2.0</td>\n",
       "      <td>0.0</td>\n",
       "      <td>yes</td>\n",
       "      <td>yes</td>\n",
       "      <td>yes</td>\n",
       "      <td>yes</td>\n",
       "      <td>yes</td>\n",
       "      <td>-6.0</td>\n",
       "      <td>yes</td>\n",
       "      <td>yes</td>\n",
       "      <td>yes</td>\n",
       "      <td>5.0</td>\n",
       "      <td>2.0</td>\n",
       "      <td>2.0</td>\n",
       "      <td>5.0</td>\n",
       "      <td>8.0</td>\n",
       "      <td>30.0</td>\n",
       "    </tr>\n",
       "    <tr>\n",
       "      <th>123</th>\n",
       "      <td>GP</td>\n",
       "      <td>M</td>\n",
       "      <td>16</td>\n",
       "      <td>U</td>\n",
       "      <td>GT3</td>\n",
       "      <td>T</td>\n",
       "      <td>4.0</td>\n",
       "      <td>4.0</td>\n",
       "      <td>health</td>\n",
       "      <td>other</td>\n",
       "      <td>course</td>\n",
       "      <td>mother</td>\n",
       "      <td>1.0</td>\n",
       "      <td>1.0</td>\n",
       "      <td>0.0</td>\n",
       "      <td>no</td>\n",
       "      <td>yes</td>\n",
       "      <td>no</td>\n",
       "      <td>yes</td>\n",
       "      <td>yes</td>\n",
       "      <td>-3.0</td>\n",
       "      <td>yes</td>\n",
       "      <td>yes</td>\n",
       "      <td>no</td>\n",
       "      <td>3.0</td>\n",
       "      <td>4.0</td>\n",
       "      <td>4.0</td>\n",
       "      <td>5.0</td>\n",
       "      <td>18.0</td>\n",
       "      <td>65.0</td>\n",
       "    </tr>\n",
       "    <tr>\n",
       "      <th>266</th>\n",
       "      <td>GP</td>\n",
       "      <td>M</td>\n",
       "      <td>17</td>\n",
       "      <td>U</td>\n",
       "      <td>GT3</td>\n",
       "      <td>NaN</td>\n",
       "      <td>3.0</td>\n",
       "      <td>1.0</td>\n",
       "      <td>services</td>\n",
       "      <td>NaN</td>\n",
       "      <td>other</td>\n",
       "      <td>mother</td>\n",
       "      <td>1.0</td>\n",
       "      <td>NaN</td>\n",
       "      <td>0.0</td>\n",
       "      <td>no</td>\n",
       "      <td>no</td>\n",
       "      <td>yes</td>\n",
       "      <td>yes</td>\n",
       "      <td>yes</td>\n",
       "      <td>NaN</td>\n",
       "      <td>yes</td>\n",
       "      <td>yes</td>\n",
       "      <td>NaN</td>\n",
       "      <td>5.0</td>\n",
       "      <td>4.0</td>\n",
       "      <td>4.0</td>\n",
       "      <td>NaN</td>\n",
       "      <td>2.0</td>\n",
       "      <td>50.0</td>\n",
       "    </tr>\n",
       "    <tr>\n",
       "      <th>392</th>\n",
       "      <td>MS</td>\n",
       "      <td>M</td>\n",
       "      <td>21</td>\n",
       "      <td>R</td>\n",
       "      <td>GT3</td>\n",
       "      <td>T</td>\n",
       "      <td>1.0</td>\n",
       "      <td>1.0</td>\n",
       "      <td>other</td>\n",
       "      <td>other</td>\n",
       "      <td>course</td>\n",
       "      <td>NaN</td>\n",
       "      <td>1.0</td>\n",
       "      <td>1.0</td>\n",
       "      <td>3.0</td>\n",
       "      <td>NaN</td>\n",
       "      <td>no</td>\n",
       "      <td>no</td>\n",
       "      <td>no</td>\n",
       "      <td>no</td>\n",
       "      <td>-3.0</td>\n",
       "      <td>NaN</td>\n",
       "      <td>no</td>\n",
       "      <td>no</td>\n",
       "      <td>5.0</td>\n",
       "      <td>5.0</td>\n",
       "      <td>3.0</td>\n",
       "      <td>3.0</td>\n",
       "      <td>3.0</td>\n",
       "      <td>35.0</td>\n",
       "    </tr>\n",
       "    <tr>\n",
       "      <th>129</th>\n",
       "      <td>GP</td>\n",
       "      <td>M</td>\n",
       "      <td>16</td>\n",
       "      <td>R</td>\n",
       "      <td>NaN</td>\n",
       "      <td>T</td>\n",
       "      <td>4.0</td>\n",
       "      <td>4.0</td>\n",
       "      <td>teacher</td>\n",
       "      <td>teacher</td>\n",
       "      <td>course</td>\n",
       "      <td>mother</td>\n",
       "      <td>1.0</td>\n",
       "      <td>NaN</td>\n",
       "      <td>0.0</td>\n",
       "      <td>no</td>\n",
       "      <td>no</td>\n",
       "      <td>yes</td>\n",
       "      <td>yes</td>\n",
       "      <td>yes</td>\n",
       "      <td>NaN</td>\n",
       "      <td>yes</td>\n",
       "      <td>yes</td>\n",
       "      <td>no</td>\n",
       "      <td>3.0</td>\n",
       "      <td>5.0</td>\n",
       "      <td>5.0</td>\n",
       "      <td>4.0</td>\n",
       "      <td>NaN</td>\n",
       "      <td>90.0</td>\n",
       "    </tr>\n",
       "  </tbody>\n",
       "</table>\n",
       "</div>"
      ],
      "text/plain": [
       "    school sex  age address famsize pstatus  medu  fedu      mjob      fjob  \\\n",
       "223     GP   M   18       U     GT3       T   2.0   2.0     other     other   \n",
       "116     GP   M   15       U     GT3       T   4.0   4.0     other   teacher   \n",
       "30      GP   M   15       U     GT3       T   4.0   4.0    health  services   \n",
       "68      GP   F   15       R     LE3       T   2.0   2.0    health       NaN   \n",
       "157     GP   F   18       R     GT3       T   1.0   1.0   at_home     other   \n",
       "45      GP   F   15       U     LE3       A   4.0   3.0     other     other   \n",
       "123     GP   M   16       U     GT3       T   4.0   4.0    health     other   \n",
       "266     GP   M   17       U     GT3     NaN   3.0   1.0  services       NaN   \n",
       "392     MS   M   21       R     GT3       T   1.0   1.0     other     other   \n",
       "129     GP   M   16       R     NaN       T   4.0   4.0   teacher   teacher   \n",
       "\n",
       "         reason guardian  traveltime  studytime  failures schoolsup famsup  \\\n",
       "223        home      NaN         2.0        2.0       0.0        no    yes   \n",
       "116  reputation   father         2.0        2.0       0.0        no    yes   \n",
       "30         home   mother         NaN        2.0       0.0        no    yes   \n",
       "68   reputation   mother         NaN        2.0       NaN       yes    yes   \n",
       "157      course   mother         NaN        1.0       3.0        no    yes   \n",
       "45       course   mother         1.0        2.0       0.0       yes    yes   \n",
       "123      course   mother         1.0        1.0       0.0        no    yes   \n",
       "266       other   mother         1.0        NaN       0.0        no     no   \n",
       "392      course      NaN         1.0        1.0       3.0       NaN     no   \n",
       "129      course   mother         1.0        NaN       0.0        no     no   \n",
       "\n",
       "    paid activities nursery  studytime_granular higher internet romantic  \\\n",
       "223  yes         no     yes                -6.0    yes      yes       no   \n",
       "116   no        NaN     yes                -6.0    yes       no       no   \n",
       "30   yes         no      no                -6.0    yes      yes       no   \n",
       "68   NaN         no     yes                -6.0    yes      yes       no   \n",
       "157   no        yes      no                -3.0    yes       no       no   \n",
       "45   yes        yes     yes                -6.0    yes      yes      yes   \n",
       "123   no        yes     yes                -3.0    yes      yes       no   \n",
       "266  yes        yes     yes                 NaN    yes      yes      NaN   \n",
       "392   no         no      no                -3.0    NaN       no       no   \n",
       "129  yes        yes     yes                 NaN    yes      yes       no   \n",
       "\n",
       "     famrel  freetime  goout  health  absences  score  \n",
       "223     3.0       3.0    3.0     4.0       0.0   65.0  \n",
       "116     4.0       4.0    3.0     2.0       2.0   70.0  \n",
       "30      5.0       4.0    2.0     NaN       0.0   60.0  \n",
       "68      4.0       1.0    3.0     4.0       2.0   40.0  \n",
       "157     5.0       2.0    5.0     4.0       6.0   50.0  \n",
       "45      5.0       2.0    2.0     5.0       8.0   30.0  \n",
       "123     3.0       4.0    4.0     5.0      18.0   65.0  \n",
       "266     5.0       4.0    4.0     NaN       2.0   50.0  \n",
       "392     5.0       5.0    3.0     3.0       3.0   35.0  \n",
       "129     3.0       5.0    5.0     4.0       NaN   90.0  "
      ]
     },
     "execution_count": 54,
     "metadata": {},
     "output_type": "execute_result"
    }
   ],
   "source": [
    "students.sample(10)"
   ]
  },
  {
   "cell_type": "markdown",
   "metadata": {},
   "source": [
    "#### Значения колонок датафрейма\n",
    "\n",
    "school — аббревиатура школы, в которой учится ученик\n",
    "\n",
    "sex — пол ученика ('F' - женский, 'M' - мужской)\n",
    "\n",
    "age — возраст ученика (от 15 до 22)\n",
    "\n",
    "address — тип адреса ученика ('U' - городской, 'R' - за городом)\n",
    "\n",
    "famsize — размер семьи('LE3' <= 3, 'GT3' >3)\n",
    "\n",
    "Pstatus — статус совместного жилья родителей ('T' - живут вместе 'A' - раздельно)\n",
    "\n",
    "Medu — образование матери (0 - нет, 1 - 4 класса, 2 - 5-9 классы, 3 - среднее специальное или 11 классов, 4 - высшее)\n",
    "\n",
    "Fedu — образование отца (0 - нет, 1 - 4 класса, 2 - 5-9 классы, 3 - среднее специальное или 11 классов, 4 - высшее)\n",
    "\n",
    "Mjob — работа матери ('teacher' - учитель, 'health' - сфера здравоохранения, 'services' - гос служба, 'at_home' - не работает, 'other' - другое)\n",
    "\n",
    "Fjob — работа отца ('teacher' - учитель, 'health' - сфера здравоохранения, 'services' - гос служба, 'at_home' - не работает, 'other' - другое)\n",
    "\n",
    "reason — причина выбора школы ('home' - близость к дому, 'reputation' - репутация школы, 'course' - образовательная программа, 'other' - другое)\n",
    "\n",
    "guardian — опекун ('mother' - мать, 'father' - отец, 'other' - другое)\n",
    "\n",
    "traveltime — время в пути до школы (1 - <15 мин., 2 - 15-30 мин., 3 - 30-60 мин., 4 - >60 мин.)\n",
    "\n",
    "studytime — время на учёбу помимо школы в неделю (1 - <2 часов, 2 - 2-5 часов, 3 - 5-10 часов, 4 - >10 часов)\n",
    "\n",
    "failures — количество внеучебных неудач (n, если 1<=n<=3, иначе 0)\n",
    "\n",
    "schoolsup — дополнительная образовательная поддержка (yes или no)\n",
    "\n",
    "famsup — семейная образовательная поддержка (yes или no)\n",
    "\n",
    "paid — дополнительные платные занятия по математике (yes или no)\n",
    "\n",
    "activities — дополнительные внеучебные занятия (yes или no)\n",
    "\n",
    "nursery — посещал детский сад (yes или no)\n",
    "\n",
    "higher — хочет получить высшее образование (yes или no)\n",
    "\n",
    "internet — наличие интернета дома (yes или no)\n",
    "\n",
    "romantic — в романтических отношениях (yes или no)\n",
    "\n",
    "famrel — семейные отношения (от 1 - очень плохо до 5 - очень хорошо)\n",
    "\n",
    "freetime — свободное время после школы (от 1 - очень мало до 5 - очень мого)\n",
    "\n",
    "goout — проведение времени с друзьями (от 1 - очень мало до 5 - очень много)\n",
    "\n",
    "health — текущее состояние здоровья (от 1 - очень плохо до 5 - очень хорошо)\n",
    "\n",
    "absences — количество пропущенных занятий\n",
    "\n",
    "score — баллы по госэкзамену по математике"
   ]
  },
  {
   "cell_type": "code",
   "execution_count": 55,
   "metadata": {
    "scrolled": false
   },
   "outputs": [
    {
     "name": "stdout",
     "output_type": "stream",
     "text": [
      "<class 'pandas.core.frame.DataFrame'>\n",
      "RangeIndex: 395 entries, 0 to 394\n",
      "Data columns (total 30 columns):\n",
      " #   Column              Non-Null Count  Dtype  \n",
      "---  ------              --------------  -----  \n",
      " 0   school              395 non-null    object \n",
      " 1   sex                 395 non-null    object \n",
      " 2   age                 395 non-null    int64  \n",
      " 3   address             378 non-null    object \n",
      " 4   famsize             368 non-null    object \n",
      " 5   pstatus             350 non-null    object \n",
      " 6   medu                392 non-null    float64\n",
      " 7   fedu                371 non-null    float64\n",
      " 8   mjob                376 non-null    object \n",
      " 9   fjob                359 non-null    object \n",
      " 10  reason              378 non-null    object \n",
      " 11  guardian            364 non-null    object \n",
      " 12  traveltime          367 non-null    float64\n",
      " 13  studytime           388 non-null    float64\n",
      " 14  failures            373 non-null    float64\n",
      " 15  schoolsup           386 non-null    object \n",
      " 16  famsup              356 non-null    object \n",
      " 17  paid                355 non-null    object \n",
      " 18  activities          381 non-null    object \n",
      " 19  nursery             379 non-null    object \n",
      " 20  studytime_granular  388 non-null    float64\n",
      " 21  higher              375 non-null    object \n",
      " 22  internet            361 non-null    object \n",
      " 23  romantic            364 non-null    object \n",
      " 24  famrel              368 non-null    float64\n",
      " 25  freetime            384 non-null    float64\n",
      " 26  goout               387 non-null    float64\n",
      " 27  health              380 non-null    float64\n",
      " 28  absences            383 non-null    float64\n",
      " 29  score               389 non-null    float64\n",
      "dtypes: float64(12), int64(1), object(17)\n",
      "memory usage: 92.7+ KB\n"
     ]
    }
   ],
   "source": [
    "students.info()"
   ]
  },
  {
   "cell_type": "markdown",
   "metadata": {},
   "source": [
    "В датасете всего 30 колонок: 13 числовых колонок и 17 строковых. \n",
    "Датасете содержит данные данные о 395 учениках.\n",
    "Во всех колонках, кроме school, sex, age есть пустые значения."
   ]
  },
  {
   "cell_type": "code",
   "execution_count": 106,
   "metadata": {},
   "outputs": [
    {
     "data": {
      "text/plain": [
       "pandas.core.series.Series"
      ]
     },
     "execution_count": 106,
     "metadata": {},
     "output_type": "execute_result"
    }
   ],
   "source": [
    "type(students.sex)"
   ]
  },
  {
   "cell_type": "markdown",
   "metadata": {},
   "source": [
    "# Очистка данных"
   ]
  },
  {
   "cell_type": "code",
   "execution_count": 110,
   "metadata": {},
   "outputs": [],
   "source": [
    "# Функция для получения быстрой справки о данных в колонках\n",
    "def info(x):\n",
    "    print(pd.DataFrame(x.value_counts()))\n",
    "    print('Пропущенных значений -', x.isnull().values.sum())\n",
    "    x.hist()"
   ]
  },
  {
   "cell_type": "markdown",
   "metadata": {},
   "source": [
    "### Просмотр числовыx столбцов"
   ]
  },
  {
   "cell_type": "code",
   "execution_count": 111,
   "metadata": {
    "scrolled": true
   },
   "outputs": [
    {
     "name": "stdout",
     "output_type": "stream",
     "text": [
      "    age\n",
      "16  104\n",
      "17   98\n",
      "18   82\n",
      "15   82\n",
      "19   24\n",
      "20    3\n",
      "22    1\n",
      "21    1\n",
      "Пропущенных значений - 0\n"
     ]
    },
    {
     "data": {
      "image/png": "[encoded data removed]",
      "text/plain": [
       "<Figure size 432x288 with 1 Axes>"
      ]
     },
     "metadata": {
      "needs_background": "light"
     },
     "output_type": "display_data"
    }
   ],
   "source": [
    "info(students.age)"
   ]
  },
  {
   "cell_type": "code",
   "execution_count": 112,
   "metadata": {},
   "outputs": [
    {
     "name": "stdout",
     "output_type": "stream",
     "text": [
      "     medu\n",
      "4.0   131\n",
      "2.0   102\n",
      "3.0    97\n",
      "1.0    59\n",
      "0.0     3\n",
      "Пропущенных значений - 3\n"
     ]
    },
    {
     "data": {
      "image/png": "[encoded data removed]",
      "text/plain": [
       "<Figure size 432x288 with 1 Axes>"
      ]
     },
     "metadata": {
      "needs_background": "light"
     },
     "output_type": "display_data"
    }
   ],
   "source": [
    "info(students.medu)"
   ]
  },
  {
   "cell_type": "code",
   "execution_count": 59,
   "metadata": {
    "scrolled": true
   },
   "outputs": [
    {
     "name": "stdout",
     "output_type": "stream",
     "text": [
      "      fedu\n",
      "2.0    106\n",
      "3.0     96\n",
      "4.0     88\n",
      "1.0     78\n",
      "0.0      2\n",
      "40.0     1\n",
      "Пропущенных значений - 24\n"
     ]
    },
    {
     "data": {
      "image/png": "[encoded data removed]",
      "text/plain": [
       "<Figure size 432x288 with 1 Axes>"
      ]
     },
     "metadata": {
      "needs_background": "light"
     },
     "output_type": "display_data"
    }
   ],
   "source": [
    "info(students.fedu)"
   ]
  },
  {
   "cell_type": "markdown",
   "metadata": {},
   "source": [
    "Исправим опечатку значения 40.0, вероятно имелось ввиду 4."
   ]
  },
  {
   "cell_type": "code",
   "execution_count": 60,
   "metadata": {},
   "outputs": [],
   "source": [
    "students.fedu = students.fedu.apply(lambda x: x/10 if x > 9 else x)"
   ]
  },
  {
   "cell_type": "code",
   "execution_count": 61,
   "metadata": {},
   "outputs": [
    {
     "name": "stdout",
     "output_type": "stream",
     "text": [
      "     traveltime\n",
      "1.0         242\n",
      "2.0          96\n",
      "3.0          22\n",
      "4.0           7\n",
      "Пропущенных значений - 28\n"
     ]
    },
    {
     "data": {
      "image/png": "[encoded data removed]",
      "text/plain": [
       "<Figure size 432x288 with 1 Axes>"
      ]
     },
     "metadata": {
      "needs_background": "light"
     },
     "output_type": "display_data"
    }
   ],
   "source": [
    "info(students.traveltime)"
   ]
  },
  {
   "cell_type": "code",
   "execution_count": 62,
   "metadata": {},
   "outputs": [
    {
     "name": "stdout",
     "output_type": "stream",
     "text": [
      "     studytime\n",
      "2.0        194\n",
      "1.0        103\n",
      "3.0         64\n",
      "4.0         27\n",
      "Пропущенных значений - 7\n"
     ]
    },
    {
     "data": {
      "image/png": "[encoded data removed]",
      "text/plain": [
       "<Figure size 432x288 with 1 Axes>"
      ]
     },
     "metadata": {
      "needs_background": "light"
     },
     "output_type": "display_data"
    }
   ],
   "source": [
    "info(students.studytime)"
   ]
  },
  {
   "cell_type": "code",
   "execution_count": 63,
   "metadata": {},
   "outputs": [
    {
     "name": "stdout",
     "output_type": "stream",
     "text": [
      "     failures\n",
      "0.0       293\n",
      "1.0        49\n",
      "2.0        16\n",
      "3.0        15\n",
      "Пропущенных значений - 22\n"
     ]
    },
    {
     "data": {
      "image/png": "[encoded data removed]",
      "text/plain": [
       "<Figure size 432x288 with 1 Axes>"
      ]
     },
     "metadata": {
      "needs_background": "light"
     },
     "output_type": "display_data"
    }
   ],
   "source": [
    "info(students.failures)"
   ]
  },
  {
   "cell_type": "code",
   "execution_count": 64,
   "metadata": {},
   "outputs": [
    {
     "name": "stdout",
     "output_type": "stream",
     "text": [
      "       studytime_granular\n",
      "-6.0                  194\n",
      "-3.0                  103\n",
      "-9.0                   64\n",
      "-12.0                  27\n",
      "Пропущенных значений - 7\n"
     ]
    },
    {
     "data": {
      "image/png": "[encoded data removed]",
      "text/plain": [
       "<Figure size 432x288 with 1 Axes>"
      ]
     },
     "metadata": {
      "needs_background": "light"
     },
     "output_type": "display_data"
    }
   ],
   "source": [
    "info(students.studytime_granular)"
   ]
  },
  {
   "cell_type": "code",
   "execution_count": 65,
   "metadata": {},
   "outputs": [
    {
     "name": "stdout",
     "output_type": "stream",
     "text": [
      "      famrel\n",
      " 4.0     182\n",
      " 5.0      99\n",
      " 3.0      62\n",
      " 2.0      17\n",
      " 1.0       7\n",
      "-1.0       1\n",
      "Пропущенных значений - 27\n"
     ]
    },
    {
     "data": {
      "image/png": "[encoded data removed]",
      "text/plain": [
       "<Figure size 432x288 with 1 Axes>"
      ]
     },
     "metadata": {
      "needs_background": "light"
     },
     "output_type": "display_data"
    }
   ],
   "source": [
    "info(students.famrel)"
   ]
  },
  {
   "cell_type": "markdown",
   "metadata": {},
   "source": [
    "Исправим опечатку значения -1.0, вероятно имелось ввиду 1.0"
   ]
  },
  {
   "cell_type": "code",
   "execution_count": 66,
   "metadata": {},
   "outputs": [],
   "source": [
    "students.famrel = students.famrel.apply(lambda x: abs(x) if x < 0 else x)"
   ]
  },
  {
   "cell_type": "code",
   "execution_count": 67,
   "metadata": {
    "scrolled": true
   },
   "outputs": [
    {
     "name": "stdout",
     "output_type": "stream",
     "text": [
      "     freetime\n",
      "3.0       153\n",
      "4.0       112\n",
      "2.0        63\n",
      "5.0        38\n",
      "1.0        18\n",
      "Пропущенных значений - 11\n"
     ]
    },
    {
     "data": {
      "image/png": "[encoded data removed]",
      "text/plain": [
       "<Figure size 432x288 with 1 Axes>"
      ]
     },
     "metadata": {
      "needs_background": "light"
     },
     "output_type": "display_data"
    }
   ],
   "source": [
    "info(students.freetime)"
   ]
  },
  {
   "cell_type": "code",
   "execution_count": 68,
   "metadata": {},
   "outputs": [
    {
     "name": "stdout",
     "output_type": "stream",
     "text": [
      "     goout\n",
      "3.0    127\n",
      "2.0    101\n",
      "4.0     84\n",
      "5.0     52\n",
      "1.0     23\n",
      "Пропущенных значений - 8\n"
     ]
    },
    {
     "data": {
      "image/png": "[encoded data removed]",
      "text/plain": [
       "<Figure size 432x288 with 1 Axes>"
      ]
     },
     "metadata": {
      "needs_background": "light"
     },
     "output_type": "display_data"
    }
   ],
   "source": [
    "info(students.goout)"
   ]
  },
  {
   "cell_type": "code",
   "execution_count": 69,
   "metadata": {},
   "outputs": [
    {
     "name": "stdout",
     "output_type": "stream",
     "text": [
      "     health\n",
      "5.0     138\n",
      "3.0      89\n",
      "4.0      63\n",
      "1.0      47\n",
      "2.0      43\n",
      "Пропущенных значений - 15\n"
     ]
    },
    {
     "data": {
      "image/png": "[encoded data removed]",
      "text/plain": [
       "<Figure size 432x288 with 1 Axes>"
      ]
     },
     "metadata": {
      "needs_background": "light"
     },
     "output_type": "display_data"
    }
   ],
   "source": [
    "info(students.health)"
   ]
  },
  {
   "cell_type": "code",
   "execution_count": 70,
   "metadata": {
    "scrolled": true
   },
   "outputs": [
    {
     "name": "stdout",
     "output_type": "stream",
     "text": [
      "       absences\n",
      "0.0         111\n",
      "2.0          60\n",
      "4.0          53\n",
      "6.0          31\n",
      "8.0          21\n",
      "10.0         17\n",
      "12.0         12\n",
      "14.0         12\n",
      "3.0           8\n",
      "16.0          7\n",
      "7.0           6\n",
      "5.0           5\n",
      "18.0          5\n",
      "20.0          4\n",
      "22.0          3\n",
      "9.0           3\n",
      "1.0           3\n",
      "15.0          2\n",
      "13.0          2\n",
      "11.0          2\n",
      "25.0          1\n",
      "54.0          1\n",
      "385.0         1\n",
      "26.0          1\n",
      "56.0          1\n",
      "24.0          1\n",
      "212.0         1\n",
      "21.0          1\n",
      "75.0          1\n",
      "30.0          1\n",
      "19.0          1\n",
      "38.0          1\n",
      "40.0          1\n",
      "23.0          1\n",
      "17.0          1\n",
      "28.0          1\n",
      "Пропущенных значений - 12\n"
     ]
    },
    {
     "data": {
      "image/png": "[encoded data removed]",
      "text/plain": [
       "<Figure size 432x288 with 1 Axes>"
      ]
     },
     "metadata": {
      "needs_background": "light"
     },
     "output_type": "display_data"
    }
   ],
   "source": [
    "info(students.absences)"
   ]
  },
  {
   "cell_type": "markdown",
   "metadata": {},
   "source": [
    "Вероятно, значения 212 и 385 являются ошибками, т.к. выходят за рамки кол-ва учебных дней и кол-ва дней в году соответственно. Удалим их из датасета."
   ]
  },
  {
   "cell_type": "code",
   "execution_count": 71,
   "metadata": {},
   "outputs": [
    {
     "data": {
      "text/plain": [
       "393"
      ]
     },
     "execution_count": 71,
     "metadata": {},
     "output_type": "execute_result"
    }
   ],
   "source": [
    "students = students[~students.absences.isin([212.0,385.0])]\n",
    "len(students)"
   ]
  },
  {
   "cell_type": "markdown",
   "metadata": {},
   "source": [
    "Посмотрим еще раз не получившийся результат? определим выбросы и удалим их."
   ]
  },
  {
   "cell_type": "code",
   "execution_count": 72,
   "metadata": {},
   "outputs": [
    {
     "name": "stdout",
     "output_type": "stream",
     "text": [
      "      absences\n",
      "0.0        111\n",
      "2.0         60\n",
      "4.0         53\n",
      "6.0         31\n",
      "8.0         21\n",
      "10.0        17\n",
      "14.0        12\n",
      "12.0        12\n",
      "3.0          8\n",
      "16.0         7\n",
      "7.0          6\n",
      "5.0          5\n",
      "18.0         5\n",
      "20.0         4\n",
      "1.0          3\n",
      "22.0         3\n",
      "9.0          3\n",
      "15.0         2\n",
      "13.0         2\n",
      "11.0         2\n",
      "54.0         1\n",
      "25.0         1\n",
      "17.0         1\n",
      "26.0         1\n",
      "56.0         1\n",
      "23.0         1\n",
      "28.0         1\n",
      "21.0         1\n",
      "75.0         1\n",
      "30.0         1\n",
      "19.0         1\n",
      "38.0         1\n",
      "40.0         1\n",
      "24.0         1\n",
      "Пропущенных значений - 12\n"
     ]
    },
    {
     "data": {
      "image/png": "[encoded data removed]",
      "text/plain": [
       "<Figure size 432x288 with 1 Axes>"
      ]
     },
     "metadata": {
      "needs_background": "light"
     },
     "output_type": "display_data"
    }
   ],
   "source": [
    "info(students.absences)"
   ]
  },
  {
   "cell_type": "code",
   "execution_count": 73,
   "metadata": {
    "scrolled": false
   },
   "outputs": [
    {
     "name": "stdout",
     "output_type": "stream",
     "text": [
      "25-й перцентиль: 0.0, 75-й перцентиль: 8.0, IQR: 8.0,  Границы выбросов: [-12.0, 20.0].\n"
     ]
    },
    {
     "data": {
      "image/png": "[encoded data removed]",
      "text/plain": [
       "<Figure size 432x288 with 1 Axes>"
      ]
     },
     "metadata": {
      "needs_background": "light"
     },
     "output_type": "display_data"
    }
   ],
   "source": [
    "median = students.absences.median()\n",
    "IQR = students.absences.quantile(0.75) - students.absences.quantile(0.25)\n",
    "perc25 = students.absences.quantile(0.25)\n",
    "perc75 = students.absences.quantile(0.75)\n",
    "print('25-й перцентиль: {},'.format(perc25), \n",
    "      '75-й перцентиль: {},'.format(perc75), \n",
    "      \"IQR: {}, \".format(IQR),\n",
    "      \"Границы выбросов: [{f}, {l}].\".format(f=perc25 - 1.5*IQR, l=perc75 + 1.5*IQR))\n",
    "students.absences.loc[students.absences.between(perc25 - 1.5*IQR, perc75 + 1.5*IQR)].hist(bins = 16, \n",
    "                                                                                              range = (0, 30),\n",
    "                                                                                              label = 'IQR')\n",
    "plt.legend();"
   ]
  },
  {
   "cell_type": "markdown",
   "metadata": {},
   "source": [
    "Выбросами считаем значения больше 30, т.к. пропуск более 30 учебных дней скорее всего приведет к переводу ученика на домашнее обучение."
   ]
  },
  {
   "cell_type": "code",
   "execution_count": 74,
   "metadata": {},
   "outputs": [
    {
     "data": {
      "text/plain": [
       "366"
      ]
     },
     "execution_count": 74,
     "metadata": {},
     "output_type": "execute_result"
    }
   ],
   "source": [
    "students = students.absences.loc[students.absences.between(perc25 - 1.5*IQR, perc75 + 1.5*IQR)]\n",
    "len(students)"
   ]
  },
  {
   "cell_type": "code",
   "execution_count": 80,
   "metadata": {
    "scrolled": true
   },
   "outputs": [
    {
     "name": "stdout",
     "output_type": "stream",
     "text": [
      "       score\n",
      "50.0      54\n",
      "55.0      46\n",
      "0.0       37\n",
      "75.0      33\n",
      "65.0      31\n",
      "40.0      31\n",
      "60.0      31\n",
      "70.0      27\n",
      "45.0      27\n",
      "80.0      16\n",
      "30.0      15\n",
      "90.0      12\n",
      "35.0       9\n",
      "25.0       7\n",
      "85.0       6\n",
      "95.0       5\n",
      "100.0      1\n",
      "20.0       1\n",
      "Пропущенных значений - 6\n"
     ]
    },
    {
     "data": {
      "image/png": "[encoded data removed]",
      "text/plain": [
       "<Figure size 432x288 with 1 Axes>"
      ]
     },
     "metadata": {
      "needs_background": "light"
     },
     "output_type": "display_data"
    }
   ],
   "source": [
    "info(students.score)"
   ]
  },
  {
   "cell_type": "markdown",
   "metadata": {},
   "source": [
    "Числовые колонки содержат достаточно чистые данные, мало ошибок и пропущенных значений."
   ]
  },
  {
   "cell_type": "markdown",
   "metadata": {},
   "source": [
    "### Просмотр строковых столбцов"
   ]
  },
  {
   "cell_type": "code",
   "execution_count": 81,
   "metadata": {},
   "outputs": [
    {
     "name": "stdout",
     "output_type": "stream",
     "text": [
      "    school\n",
      "GP     349\n",
      "MS      46\n",
      "Пропущенных значений - 0\n"
     ]
    },
    {
     "data": {
      "image/png": "[encoded data removed]",
      "text/plain": [
       "<Figure size 432x288 with 1 Axes>"
      ]
     },
     "metadata": {
      "needs_background": "light"
     },
     "output_type": "display_data"
    }
   ],
   "source": [
    "info(students.school)"
   ]
  },
  {
   "cell_type": "code",
   "execution_count": 82,
   "metadata": {},
   "outputs": [
    {
     "name": "stdout",
     "output_type": "stream",
     "text": [
      "   sex\n",
      "F  208\n",
      "M  187\n",
      "Пропущенных значений - 0\n"
     ]
    },
    {
     "data": {
      "image/png": "[encoded data removed]",
      "text/plain": [
       "<Figure size 432x288 with 1 Axes>"
      ]
     },
     "metadata": {
      "needs_background": "light"
     },
     "output_type": "display_data"
    }
   ],
   "source": [
    "info(students.sex)"
   ]
  },
  {
   "cell_type": "code",
   "execution_count": 83,
   "metadata": {},
   "outputs": [
    {
     "name": "stdout",
     "output_type": "stream",
     "text": [
      "   address\n",
      "U      295\n",
      "R       83\n",
      "Пропущенных значений - 17\n"
     ]
    },
    {
     "data": {
      "image/png": "[encoded data removed]",
      "text/plain": [
       "<Figure size 432x288 with 1 Axes>"
      ]
     },
     "metadata": {
      "needs_background": "light"
     },
     "output_type": "display_data"
    }
   ],
   "source": [
    "info(students.address)"
   ]
  },
  {
   "cell_type": "code",
   "execution_count": 84,
   "metadata": {},
   "outputs": [
    {
     "name": "stdout",
     "output_type": "stream",
     "text": [
      "     famsize\n",
      "GT3      261\n",
      "LE3      107\n",
      "Пропущенных значений - 27\n"
     ]
    },
    {
     "data": {
      "image/png": "[encoded data removed]",
      "text/plain": [
       "<Figure size 432x288 with 1 Axes>"
      ]
     },
     "metadata": {
      "needs_background": "light"
     },
     "output_type": "display_data"
    }
   ],
   "source": [
    "info(students.famsize)"
   ]
  },
  {
   "cell_type": "code",
   "execution_count": 85,
   "metadata": {},
   "outputs": [
    {
     "name": "stdout",
     "output_type": "stream",
     "text": [
      "   pstatus\n",
      "T      314\n",
      "A       36\n",
      "Пропущенных значений - 45\n"
     ]
    },
    {
     "data": {
      "image/png": "[encoded data removed]",
      "text/plain": [
       "<Figure size 432x288 with 1 Axes>"
      ]
     },
     "metadata": {
      "needs_background": "light"
     },
     "output_type": "display_data"
    }
   ],
   "source": [
    "info(students.pstatus)"
   ]
  },
  {
   "cell_type": "code",
   "execution_count": 86,
   "metadata": {},
   "outputs": [
    {
     "name": "stdout",
     "output_type": "stream",
     "text": [
      "          mjob\n",
      "other      133\n",
      "services    98\n",
      "at_home     58\n",
      "teacher     55\n",
      "health      32\n",
      "Пропущенных значений - 19\n"
     ]
    },
    {
     "data": {
      "image/png": "[encoded data removed]",
      "text/plain": [
       "<Figure size 432x288 with 1 Axes>"
      ]
     },
     "metadata": {
      "needs_background": "light"
     },
     "output_type": "display_data"
    }
   ],
   "source": [
    "info(students.mjob)"
   ]
  },
  {
   "cell_type": "code",
   "execution_count": 87,
   "metadata": {},
   "outputs": [
    {
     "name": "stdout",
     "output_type": "stream",
     "text": [
      "          fjob\n",
      "other      197\n",
      "services   102\n",
      "teacher     29\n",
      "at_home     16\n",
      "health      15\n",
      "Пропущенных значений - 36\n"
     ]
    },
    {
     "data": {
      "image/png": "[encoded data removed]",
      "text/plain": [
       "<Figure size 432x288 with 1 Axes>"
      ]
     },
     "metadata": {
      "needs_background": "light"
     },
     "output_type": "display_data"
    }
   ],
   "source": [
    "info(students.fjob)"
   ]
  },
  {
   "cell_type": "code",
   "execution_count": 88,
   "metadata": {},
   "outputs": [
    {
     "name": "stdout",
     "output_type": "stream",
     "text": [
      "            reason\n",
      "course         137\n",
      "home           104\n",
      "reputation     103\n",
      "other           34\n",
      "Пропущенных значений - 17\n"
     ]
    },
    {
     "data": {
      "image/png": "[encoded data removed]",
      "text/plain": [
       "<Figure size 432x288 with 1 Axes>"
      ]
     },
     "metadata": {
      "needs_background": "light"
     },
     "output_type": "display_data"
    }
   ],
   "source": [
    "info(students.reason)"
   ]
  },
  {
   "cell_type": "code",
   "execution_count": 89,
   "metadata": {},
   "outputs": [
    {
     "name": "stdout",
     "output_type": "stream",
     "text": [
      "        guardian\n",
      "mother       250\n",
      "father        86\n",
      "other         28\n",
      "Пропущенных значений - 31\n"
     ]
    },
    {
     "data": {
      "image/png": "[encoded data removed]",
      "text/plain": [
       "<Figure size 432x288 with 1 Axes>"
      ]
     },
     "metadata": {
      "needs_background": "light"
     },
     "output_type": "display_data"
    }
   ],
   "source": [
    "info(students.guardian)"
   ]
  },
  {
   "cell_type": "code",
   "execution_count": 90,
   "metadata": {},
   "outputs": [
    {
     "name": "stdout",
     "output_type": "stream",
     "text": [
      "     schoolsup\n",
      "no         335\n",
      "yes         51\n",
      "Пропущенных значений - 9\n"
     ]
    },
    {
     "data": {
      "image/png": "[encoded data removed]",
      "text/plain": [
       "<Figure size 432x288 with 1 Axes>"
      ]
     },
     "metadata": {
      "needs_background": "light"
     },
     "output_type": "display_data"
    }
   ],
   "source": [
    "info(students.schoolsup)"
   ]
  },
  {
   "cell_type": "code",
   "execution_count": 91,
   "metadata": {},
   "outputs": [
    {
     "name": "stdout",
     "output_type": "stream",
     "text": [
      "     famsup\n",
      "yes     219\n",
      "no      137\n",
      "Пропущенных значений - 39\n"
     ]
    },
    {
     "data": {
      "image/png": "[encoded data removed]",
      "text/plain": [
       "<Figure size 432x288 with 1 Axes>"
      ]
     },
     "metadata": {
      "needs_background": "light"
     },
     "output_type": "display_data"
    }
   ],
   "source": [
    "info(students.famsup)"
   ]
  },
  {
   "cell_type": "code",
   "execution_count": 92,
   "metadata": {},
   "outputs": [
    {
     "name": "stdout",
     "output_type": "stream",
     "text": [
      "     paid\n",
      "no    200\n",
      "yes   155\n",
      "Пропущенных значений - 40\n"
     ]
    },
    {
     "data": {
      "image/png": "[encoded data removed]",
      "text/plain": [
       "<Figure size 432x288 with 1 Axes>"
      ]
     },
     "metadata": {
      "needs_background": "light"
     },
     "output_type": "display_data"
    }
   ],
   "source": [
    "info(students.paid)"
   ]
  },
  {
   "cell_type": "code",
   "execution_count": 93,
   "metadata": {},
   "outputs": [
    {
     "name": "stdout",
     "output_type": "stream",
     "text": [
      "     activities\n",
      "yes         195\n",
      "no          186\n",
      "Пропущенных значений - 14\n"
     ]
    },
    {
     "data": {
      "image/png": "[encoded data removed]",
      "text/plain": [
       "<Figure size 432x288 with 1 Axes>"
      ]
     },
     "metadata": {
      "needs_background": "light"
     },
     "output_type": "display_data"
    }
   ],
   "source": [
    "info(students.activities)"
   ]
  },
  {
   "cell_type": "code",
   "execution_count": 94,
   "metadata": {},
   "outputs": [
    {
     "name": "stdout",
     "output_type": "stream",
     "text": [
      "     nursery\n",
      "yes      300\n",
      "no        79\n",
      "Пропущенных значений - 16\n"
     ]
    },
    {
     "data": {
      "image/png": "[encoded data removed]",
      "text/plain": [
       "<Figure size 432x288 with 1 Axes>"
      ]
     },
     "metadata": {
      "needs_background": "light"
     },
     "output_type": "display_data"
    }
   ],
   "source": [
    "info(students.nursery)"
   ]
  },
  {
   "cell_type": "code",
   "execution_count": 95,
   "metadata": {},
   "outputs": [
    {
     "name": "stdout",
     "output_type": "stream",
     "text": [
      "     higher\n",
      "yes     356\n",
      "no       19\n",
      "Пропущенных значений - 20\n"
     ]
    },
    {
     "data": {
      "image/png": "[encoded data removed]",
      "text/plain": [
       "<Figure size 432x288 with 1 Axes>"
      ]
     },
     "metadata": {
      "needs_background": "light"
     },
     "output_type": "display_data"
    }
   ],
   "source": [
    "info(students.higher)"
   ]
  },
  {
   "cell_type": "code",
   "execution_count": 96,
   "metadata": {},
   "outputs": [
    {
     "name": "stdout",
     "output_type": "stream",
     "text": [
      "     internet\n",
      "yes       305\n",
      "no         56\n",
      "Пропущенных значений - 34\n"
     ]
    },
    {
     "data": {
      "image/png": "[encoded data removed]",
      "text/plain": [
       "<Figure size 432x288 with 1 Axes>"
      ]
     },
     "metadata": {
      "needs_background": "light"
     },
     "output_type": "display_data"
    }
   ],
   "source": [
    "info(students.internet)"
   ]
  },
  {
   "cell_type": "code",
   "execution_count": 97,
   "metadata": {
    "scrolled": true
   },
   "outputs": [
    {
     "name": "stdout",
     "output_type": "stream",
     "text": [
      "     romantic\n",
      "no        240\n",
      "yes       124\n",
      "Пропущенных значений - 31\n"
     ]
    },
    {
     "data": {
      "image/png": "[encoded data removed]",
      "text/plain": [
       "<Figure size 432x288 with 1 Axes>"
      ]
     },
     "metadata": {
      "needs_background": "light"
     },
     "output_type": "display_data"
    }
   ],
   "source": [
    "info(students.romantic)"
   ]
  },
  {
   "cell_type": "markdown",
   "metadata": {},
   "source": [
    "Строковые данные содержат большее кол-во пропусков."
   ]
  },
  {
   "cell_type": "code",
   "execution_count": null,
   "metadata": {},
   "outputs": [],
   "source": [
    "# Можно было бы заменить все NaN на None, как обсуждалось в группе по проекту, но в таком случае перестает работать корреляция.\n",
    "# students = students.where(pd.notnull(students), None)"
   ]
  },
  {
   "cell_type": "markdown",
   "metadata": {},
   "source": [
    "# Поиск зависимостей\n",
    "Посмотрим корреляцию числовых значений"
   ]
  },
  {
   "cell_type": "code",
   "execution_count": 113,
   "metadata": {},
   "outputs": [
    {
     "data": {
      "text/html": [
       "<div>\n",
       "<style scoped>\n",
       "    .dataframe tbody tr th:only-of-type {\n",
       "        vertical-align: middle;\n",
       "    }\n",
       "\n",
       "    .dataframe tbody tr th {\n",
       "        vertical-align: top;\n",
       "    }\n",
       "\n",
       "    .dataframe thead th {\n",
       "        text-align: right;\n",
       "    }\n",
       "</style>\n",
       "<table border=\"1\" class=\"dataframe\">\n",
       "  <thead>\n",
       "    <tr style=\"text-align: right;\">\n",
       "      <th></th>\n",
       "      <th>age</th>\n",
       "      <th>medu</th>\n",
       "      <th>fedu</th>\n",
       "      <th>traveltime</th>\n",
       "      <th>studytime</th>\n",
       "      <th>failures</th>\n",
       "      <th>studytime_granular</th>\n",
       "      <th>famrel</th>\n",
       "      <th>freetime</th>\n",
       "      <th>goout</th>\n",
       "      <th>health</th>\n",
       "      <th>absences</th>\n",
       "      <th>score</th>\n",
       "    </tr>\n",
       "  </thead>\n",
       "  <tbody>\n",
       "    <tr>\n",
       "      <th>age</th>\n",
       "      <td>1.000000</td>\n",
       "      <td>-0.161704</td>\n",
       "      <td>-0.138018</td>\n",
       "      <td>0.081508</td>\n",
       "      <td>-0.015556</td>\n",
       "      <td>0.228047</td>\n",
       "      <td>0.015556</td>\n",
       "      <td>0.068899</td>\n",
       "      <td>0.029023</td>\n",
       "      <td>0.135107</td>\n",
       "      <td>-0.065946</td>\n",
       "      <td>0.093592</td>\n",
       "      <td>-0.155726</td>\n",
       "    </tr>\n",
       "    <tr>\n",
       "      <th>medu</th>\n",
       "      <td>-0.161704</td>\n",
       "      <td>1.000000</td>\n",
       "      <td>0.275598</td>\n",
       "      <td>-0.173515</td>\n",
       "      <td>0.078589</td>\n",
       "      <td>-0.245463</td>\n",
       "      <td>-0.078589</td>\n",
       "      <td>-0.010050</td>\n",
       "      <td>0.025335</td>\n",
       "      <td>0.064164</td>\n",
       "      <td>-0.045051</td>\n",
       "      <td>-0.011944</td>\n",
       "      <td>0.213349</td>\n",
       "    </tr>\n",
       "    <tr>\n",
       "      <th>fedu</th>\n",
       "      <td>-0.138018</td>\n",
       "      <td>0.275598</td>\n",
       "      <td>1.000000</td>\n",
       "      <td>0.030646</td>\n",
       "      <td>0.057199</td>\n",
       "      <td>-0.150821</td>\n",
       "      <td>-0.057199</td>\n",
       "      <td>0.040577</td>\n",
       "      <td>-0.066556</td>\n",
       "      <td>-0.023282</td>\n",
       "      <td>0.027251</td>\n",
       "      <td>0.004695</td>\n",
       "      <td>0.078573</td>\n",
       "    </tr>\n",
       "    <tr>\n",
       "      <th>traveltime</th>\n",
       "      <td>0.081508</td>\n",
       "      <td>-0.173515</td>\n",
       "      <td>0.030646</td>\n",
       "      <td>1.000000</td>\n",
       "      <td>-0.102206</td>\n",
       "      <td>0.064699</td>\n",
       "      <td>0.102206</td>\n",
       "      <td>-0.016857</td>\n",
       "      <td>-0.021937</td>\n",
       "      <td>0.037636</td>\n",
       "      <td>-0.021531</td>\n",
       "      <td>-0.048215</td>\n",
       "      <td>-0.070559</td>\n",
       "    </tr>\n",
       "    <tr>\n",
       "      <th>studytime</th>\n",
       "      <td>-0.015556</td>\n",
       "      <td>0.078589</td>\n",
       "      <td>0.057199</td>\n",
       "      <td>-0.102206</td>\n",
       "      <td>1.000000</td>\n",
       "      <td>-0.178992</td>\n",
       "      <td>-1.000000</td>\n",
       "      <td>0.045894</td>\n",
       "      <td>-0.121969</td>\n",
       "      <td>-0.051280</td>\n",
       "      <td>-0.080016</td>\n",
       "      <td>-0.026544</td>\n",
       "      <td>0.115741</td>\n",
       "    </tr>\n",
       "    <tr>\n",
       "      <th>failures</th>\n",
       "      <td>0.228047</td>\n",
       "      <td>-0.245463</td>\n",
       "      <td>-0.150821</td>\n",
       "      <td>0.064699</td>\n",
       "      <td>-0.178992</td>\n",
       "      <td>1.000000</td>\n",
       "      <td>0.178992</td>\n",
       "      <td>-0.022655</td>\n",
       "      <td>0.098382</td>\n",
       "      <td>0.120914</td>\n",
       "      <td>0.081284</td>\n",
       "      <td>0.057391</td>\n",
       "      <td>-0.344338</td>\n",
       "    </tr>\n",
       "    <tr>\n",
       "      <th>studytime_granular</th>\n",
       "      <td>0.015556</td>\n",
       "      <td>-0.078589</td>\n",
       "      <td>-0.057199</td>\n",
       "      <td>0.102206</td>\n",
       "      <td>-1.000000</td>\n",
       "      <td>0.178992</td>\n",
       "      <td>1.000000</td>\n",
       "      <td>-0.045894</td>\n",
       "      <td>0.121969</td>\n",
       "      <td>0.051280</td>\n",
       "      <td>0.080016</td>\n",
       "      <td>0.026544</td>\n",
       "      <td>-0.115741</td>\n",
       "    </tr>\n",
       "    <tr>\n",
       "      <th>famrel</th>\n",
       "      <td>0.068899</td>\n",
       "      <td>-0.010050</td>\n",
       "      <td>0.040577</td>\n",
       "      <td>-0.016857</td>\n",
       "      <td>0.045894</td>\n",
       "      <td>-0.022655</td>\n",
       "      <td>-0.045894</td>\n",
       "      <td>1.000000</td>\n",
       "      <td>0.175743</td>\n",
       "      <td>0.081154</td>\n",
       "      <td>0.077474</td>\n",
       "      <td>-0.082609</td>\n",
       "      <td>0.057112</td>\n",
       "    </tr>\n",
       "    <tr>\n",
       "      <th>freetime</th>\n",
       "      <td>0.029023</td>\n",
       "      <td>0.025335</td>\n",
       "      <td>-0.066556</td>\n",
       "      <td>-0.021937</td>\n",
       "      <td>-0.121969</td>\n",
       "      <td>0.098382</td>\n",
       "      <td>0.121969</td>\n",
       "      <td>0.175743</td>\n",
       "      <td>1.000000</td>\n",
       "      <td>0.296437</td>\n",
       "      <td>0.061575</td>\n",
       "      <td>0.009292</td>\n",
       "      <td>0.019026</td>\n",
       "    </tr>\n",
       "    <tr>\n",
       "      <th>goout</th>\n",
       "      <td>0.135107</td>\n",
       "      <td>0.064164</td>\n",
       "      <td>-0.023282</td>\n",
       "      <td>0.037636</td>\n",
       "      <td>-0.051280</td>\n",
       "      <td>0.120914</td>\n",
       "      <td>0.051280</td>\n",
       "      <td>0.081154</td>\n",
       "      <td>0.296437</td>\n",
       "      <td>1.000000</td>\n",
       "      <td>-0.015608</td>\n",
       "      <td>-0.048738</td>\n",
       "      <td>-0.129685</td>\n",
       "    </tr>\n",
       "    <tr>\n",
       "      <th>health</th>\n",
       "      <td>-0.065946</td>\n",
       "      <td>-0.045051</td>\n",
       "      <td>0.027251</td>\n",
       "      <td>-0.021531</td>\n",
       "      <td>-0.080016</td>\n",
       "      <td>0.081284</td>\n",
       "      <td>0.080016</td>\n",
       "      <td>0.077474</td>\n",
       "      <td>0.061575</td>\n",
       "      <td>-0.015608</td>\n",
       "      <td>1.000000</td>\n",
       "      <td>-0.016222</td>\n",
       "      <td>-0.070460</td>\n",
       "    </tr>\n",
       "    <tr>\n",
       "      <th>absences</th>\n",
       "      <td>0.093592</td>\n",
       "      <td>-0.011944</td>\n",
       "      <td>0.004695</td>\n",
       "      <td>-0.048215</td>\n",
       "      <td>-0.026544</td>\n",
       "      <td>0.057391</td>\n",
       "      <td>0.026544</td>\n",
       "      <td>-0.082609</td>\n",
       "      <td>0.009292</td>\n",
       "      <td>-0.048738</td>\n",
       "      <td>-0.016222</td>\n",
       "      <td>1.000000</td>\n",
       "      <td>0.065283</td>\n",
       "    </tr>\n",
       "    <tr>\n",
       "      <th>score</th>\n",
       "      <td>-0.155726</td>\n",
       "      <td>0.213349</td>\n",
       "      <td>0.078573</td>\n",
       "      <td>-0.070559</td>\n",
       "      <td>0.115741</td>\n",
       "      <td>-0.344338</td>\n",
       "      <td>-0.115741</td>\n",
       "      <td>0.057112</td>\n",
       "      <td>0.019026</td>\n",
       "      <td>-0.129685</td>\n",
       "      <td>-0.070460</td>\n",
       "      <td>0.065283</td>\n",
       "      <td>1.000000</td>\n",
       "    </tr>\n",
       "  </tbody>\n",
       "</table>\n",
       "</div>"
      ],
      "text/plain": [
       "                         age      medu      fedu  traveltime  studytime  \\\n",
       "age                 1.000000 -0.161704 -0.138018    0.081508  -0.015556   \n",
       "medu               -0.161704  1.000000  0.275598   -0.173515   0.078589   \n",
       "fedu               -0.138018  0.275598  1.000000    0.030646   0.057199   \n",
       "traveltime          0.081508 -0.173515  0.030646    1.000000  -0.102206   \n",
       "studytime          -0.015556  0.078589  0.057199   -0.102206   1.000000   \n",
       "failures            0.228047 -0.245463 -0.150821    0.064699  -0.178992   \n",
       "studytime_granular  0.015556 -0.078589 -0.057199    0.102206  -1.000000   \n",
       "famrel              0.068899 -0.010050  0.040577   -0.016857   0.045894   \n",
       "freetime            0.029023  0.025335 -0.066556   -0.021937  -0.121969   \n",
       "goout               0.135107  0.064164 -0.023282    0.037636  -0.051280   \n",
       "health             -0.065946 -0.045051  0.027251   -0.021531  -0.080016   \n",
       "absences            0.093592 -0.011944  0.004695   -0.048215  -0.026544   \n",
       "score              -0.155726  0.213349  0.078573   -0.070559   0.115741   \n",
       "\n",
       "                    failures  studytime_granular    famrel  freetime  \\\n",
       "age                 0.228047            0.015556  0.068899  0.029023   \n",
       "medu               -0.245463           -0.078589 -0.010050  0.025335   \n",
       "fedu               -0.150821           -0.057199  0.040577 -0.066556   \n",
       "traveltime          0.064699            0.102206 -0.016857 -0.021937   \n",
       "studytime          -0.178992           -1.000000  0.045894 -0.121969   \n",
       "failures            1.000000            0.178992 -0.022655  0.098382   \n",
       "studytime_granular  0.178992            1.000000 -0.045894  0.121969   \n",
       "famrel             -0.022655           -0.045894  1.000000  0.175743   \n",
       "freetime            0.098382            0.121969  0.175743  1.000000   \n",
       "goout               0.120914            0.051280  0.081154  0.296437   \n",
       "health              0.081284            0.080016  0.077474  0.061575   \n",
       "absences            0.057391            0.026544 -0.082609  0.009292   \n",
       "score              -0.344338           -0.115741  0.057112  0.019026   \n",
       "\n",
       "                       goout    health  absences     score  \n",
       "age                 0.135107 -0.065946  0.093592 -0.155726  \n",
       "medu                0.064164 -0.045051 -0.011944  0.213349  \n",
       "fedu               -0.023282  0.027251  0.004695  0.078573  \n",
       "traveltime          0.037636 -0.021531 -0.048215 -0.070559  \n",
       "studytime          -0.051280 -0.080016 -0.026544  0.115741  \n",
       "failures            0.120914  0.081284  0.057391 -0.344338  \n",
       "studytime_granular  0.051280  0.080016  0.026544 -0.115741  \n",
       "famrel              0.081154  0.077474 -0.082609  0.057112  \n",
       "freetime            0.296437  0.061575  0.009292  0.019026  \n",
       "goout               1.000000 -0.015608 -0.048738 -0.129685  \n",
       "health             -0.015608  1.000000 -0.016222 -0.070460  \n",
       "absences           -0.048738 -0.016222  1.000000  0.065283  \n",
       "score              -0.129685 -0.070460  0.065283  1.000000  "
      ]
     },
     "execution_count": 113,
     "metadata": {},
     "output_type": "execute_result"
    }
   ],
   "source": [
    "students.corr()"
   ]
  },
  {
   "cell_type": "markdown",
   "metadata": {},
   "source": [
    "Полная корреляция столбцов studytime и studytime_granular позволяют не брать последний в рассчет.\n",
    "\n",
    "Образование родителей (medu и fedu) и кол-во внеучебных неудач (failures) больше других оказывают влияние на успеваемость. Т.е. чем выше образование родителей, тем более успешный ребенок в жизни в целом, в том числе и в учебе. \n",
    "\n",
    "Также можно увидеть корреляцию возраста (age) и кол-ва внеучебных неудач (failures). Чем страше ребенок, тем хуже успеваемость. Можно предположить, что более молодые родители имеют лучшее образование, либо растущие дети начинают больше времени уделять друзьям (gout) а не учебе (studytime).\n",
    "\n",
    "Присутствует также логическая связь влияния пропусков занятий (absences) на успеваемость, эти данные мы тоже возьмем в модель."
   ]
  },
  {
   "cell_type": "markdown",
   "metadata": {},
   "source": [
    "Построим графики и посмотрим на распределения строковых данных"
   ]
  },
  {
   "cell_type": "code",
   "execution_count": 114,
   "metadata": {},
   "outputs": [],
   "source": [
    "def get_boxplot(column):\n",
    "    fig, ax = plt.subplots(figsize=(14, 4))\n",
    "    sns.boxplot(x=column, y='score',\n",
    "                data=students.loc[students.loc[:, column].isin(students.loc[:, column].value_counts().index[:10])], ax=ax)\n",
    "    plt.xticks(rotation=0)\n",
    "    ax.set_title('Boxplot for ' + column)\n",
    "    plt.show()"
   ]
  },
  {
   "cell_type": "code",
   "execution_count": 115,
   "metadata": {
    "scrolled": true
   },
   "outputs": [
    {
     "data": {
      "image/png": "[encoded data removed]",
      "text/plain": [
       "<Figure size 1008x288 with 1 Axes>"
      ]
     },
     "metadata": {
      "needs_background": "light"
     },
     "output_type": "display_data"
    },
    {
     "data": {
      "image/png": "[encoded data removed]",
      "text/plain": [
       "<Figure size 1008x288 with 1 Axes>"
      ]
     },
     "metadata": {
      "needs_background": "light"
     },
     "output_type": "display_data"
    },
    {
     "data": {
      "image/png": "[encoded data removed]",
      "text/plain": [
       "<Figure size 1008x288 with 1 Axes>"
      ]
     },
     "metadata": {
      "needs_background": "light"
     },
     "output_type": "display_data"
    },
    {
     "data": {
      "image/png": "[encoded data removed]",
      "text/plain": [
       "<Figure size 1008x288 with 1 Axes>"
      ]
     },
     "metadata": {
      "needs_background": "light"
     },
     "output_type": "display_data"
    },
    {
     "data": {
      "image/png": "[encoded data removed]",
      "text/plain": [
       "<Figure size 1008x288 with 1 Axes>"
      ]
     },
     "metadata": {
      "needs_background": "light"
     },
     "output_type": "display_data"
    },
    {
     "data": {
      "image/png": "[encoded data removed]",
      "text/plain": [
       "<Figure size 1008x288 with 1 Axes>"
      ]
     },
     "metadata": {
      "needs_background": "light"
     },
     "output_type": "display_data"
    },
    {
     "data": {
      "image/png": "[encoded data removed]",
      "text/plain": [
       "<Figure size 1008x288 with 1 Axes>"
      ]
     },
     "metadata": {
      "needs_background": "light"
     },
     "output_type": "display_data"
    },
    {
     "data": {
      "image/png": "[encoded data removed]",
      "text/plain": [
       "<Figure size 1008x288 with 1 Axes>"
      ]
     },
     "metadata": {
      "needs_background": "light"
     },
     "output_type": "display_data"
    },
    {
     "data": {
      "image/png": "[encoded data removed]",
      "text/plain": [
       "<Figure size 1008x288 with 1 Axes>"
      ]
     },
     "metadata": {
      "needs_background": "light"
     },
     "output_type": "display_data"
    },
    {
     "data": {
      "image/png": "[encoded data removed]",
      "text/plain": [
       "<Figure size 1008x288 with 1 Axes>"
      ]
     },
     "metadata": {
      "needs_background": "light"
     },
     "output_type": "display_data"
    },
    {
     "data": {
      "image/png": "[encoded data removed]",
      "text/plain": [
       "<Figure size 1008x288 with 1 Axes>"
      ]
     },
     "metadata": {
      "needs_background": "light"
     },
     "output_type": "display_data"
    },
    {
     "data": {
      "image/png": "[encoded data removed]",
      "text/plain": [
       "<Figure size 1008x288 with 1 Axes>"
      ]
     },
     "metadata": {
      "needs_background": "light"
     },
     "output_type": "display_data"
    },
    {
     "data": {
      "image/png": "[encoded data removed]",
      "text/plain": [
       "<Figure size 1008x288 with 1 Axes>"
      ]
     },
     "metadata": {
      "needs_background": "light"
     },
     "output_type": "display_data"
    },
    {
     "data": {
      "image/png": "[encoded data removed]",
      "text/plain": [
       "<Figure size 1008x288 with 1 Axes>"
      ]
     },
     "metadata": {
      "needs_background": "light"
     },
     "output_type": "display_data"
    },
    {
     "data": {
      "image/png": "[encoded data removed]",
      "text/plain": [
       "<Figure size 1008x288 with 1 Axes>"
      ]
     },
     "metadata": {
      "needs_background": "light"
     },
     "output_type": "display_data"
    },
    {
     "data": {
      "image/png": "[encoded data removed]",
      "text/plain": [
       "<Figure size 1008x288 with 1 Axes>"
      ]
     },
     "metadata": {
      "needs_background": "light"
     },
     "output_type": "display_data"
    },
    {
     "data": {
      "image/png": "[encoded data removed]",
      "text/plain": [
       "<Figure size 1008x288 with 1 Axes>"
      ]
     },
     "metadata": {
      "needs_background": "light"
     },
     "output_type": "display_data"
    }
   ],
   "source": [
    "for col in ['school', 'address', 'famsize', 'pstatus', 'mjob', 'fjob', 'reason', 'guardian', 'schoolsup', 'famsup', 'paid', \n",
    "            'activities', 'nursery', 'higher', 'sex', 'internet', 'romantic']:\n",
    "    get_boxplot(col)"
   ]
  },
  {
   "cell_type": "markdown",
   "metadata": {},
   "source": [
    "По условию задачи поиска группы риска, оцениваем факторы влияющие на ухудшение успеваемости.\n",
    "Из графиков мы видим, что минимальных значений больше у учащихся:\n",
    "<ul>\n",
    "    <li>школы GP</li>\n",
    "    <li>живущих за городом (address)</li>\n",
    "    <li>с размеров семьи больше 3 человек (famsize)</li>\n",
    "    <li>родители которых проживают совместно (pstatus)\n",
    "    <li>опекуном которых является мать (guardian) - статистическое большинство\n",
    "    <li>без дополнительной образовательной поддержки\n",
    "    <li>имеющих учебную поддержку дома (famsup)\n",
    "    <li>не занимающихся дополнительно (платно) (paid)\n",
    "    <li>посещавших детский сад\n",
    "    <li>не собирающихся получать высшее образование (higher) - сильно влияет\n",
    "    <li>женского пола\n",
    "    <li>имеющих доступ к интернету\n",
    "    <li>состоящих в романтических отношениях\n",
    "</ul>"
   ]
  },
  {
   "cell_type": "markdown",
   "metadata": {},
   "source": [
    "Сделаем тест Стюдента"
   ]
  },
  {
   "cell_type": "code",
   "execution_count": 116,
   "metadata": {},
   "outputs": [],
   "source": [
    "def get_stat_dif(column):\n",
    "    cols = students.loc[:, column].value_counts().index[:20]\n",
    "    combinations_all = list(combinations(cols, 2))\n",
    "    for comb in combinations_all:\n",
    "        if ttest_ind(students.loc[students.loc[:, column] == comb[0], 'score'],\n",
    "                     students.loc[students.loc[:, column] == comb[1], 'score']).pvalue \\\n",
    "                <= 0.05/len(combinations_all):  # Учли поправку Бонферони\n",
    "            print('Найдены статистически значимые различия для колонки', column)\n",
    "            break"
   ]
  },
  {
   "cell_type": "code",
   "execution_count": 117,
   "metadata": {
    "scrolled": true
   },
   "outputs": [
    {
     "name": "stdout",
     "output_type": "stream",
     "text": [
      "Найдены статистически значимые различия для колонки mjob\n"
     ]
    },
    {
     "name": "stderr",
     "output_type": "stream",
     "text": [
      "C:\\Anaconda\\lib\\site-packages\\scipy\\stats\\_distn_infrastructure.py:903: RuntimeWarning: invalid value encountered in greater\n",
      "  return (a < x) & (x < b)\n",
      "C:\\Anaconda\\lib\\site-packages\\scipy\\stats\\_distn_infrastructure.py:903: RuntimeWarning: invalid value encountered in less\n",
      "  return (a < x) & (x < b)\n",
      "C:\\Anaconda\\lib\\site-packages\\scipy\\stats\\_distn_infrastructure.py:1912: RuntimeWarning: invalid value encountered in less_equal\n",
      "  cond2 = cond0 & (x <= _a)\n"
     ]
    }
   ],
   "source": [
    "for col in ['school', 'address', 'famsize', 'pstatus', 'mjob', 'fjob', 'reason', 'guardian', 'schoolsup', 'famsup', 'paid',\n",
    "            'activities', 'nursery', 'higher', 'sex', 'internet', 'romantic']:\n",
    "    get_stat_dif(col)"
   ]
  },
  {
   "cell_type": "markdown",
   "metadata": {},
   "source": [
    "### Собираем датасет для модели\n",
    "Немного выводов:\n",
    "<ol>\n",
    "    <li>В целом, сильно влияет образование родителей. Они коррелируют достаточно сильно, но я решил не объединять, чтобы выявить будущие зависимости от пола родителей. Образование отца сильнее влияет на успеваемость, но также выделяется позиция матери преподавателя.</li>\n",
    "    <li>Также сильно влияют на успеваемость планы учащегося поступать в высшее учебное заведение. Если таких планов нет - то и мотивация соответствующая.</li>\n",
    "    <li>Остальные параметры в меньшей степени влияют на результат, но их сумма может оказать решающее воздействие.</li>\n",
    "</ol>"
   ]
  },
  {
   "cell_type": "code",
   "execution_count": 118,
   "metadata": {},
   "outputs": [
    {
     "data": {
      "text/html": [
       "<div>\n",
       "<style scoped>\n",
       "    .dataframe tbody tr th:only-of-type {\n",
       "        vertical-align: middle;\n",
       "    }\n",
       "\n",
       "    .dataframe tbody tr th {\n",
       "        vertical-align: top;\n",
       "    }\n",
       "\n",
       "    .dataframe thead th {\n",
       "        text-align: right;\n",
       "    }\n",
       "</style>\n",
       "<table border=\"1\" class=\"dataframe\">\n",
       "  <thead>\n",
       "    <tr style=\"text-align: right;\">\n",
       "      <th></th>\n",
       "      <th>school</th>\n",
       "      <th>age</th>\n",
       "      <th>sex</th>\n",
       "      <th>address</th>\n",
       "      <th>medu</th>\n",
       "      <th>fedu</th>\n",
       "      <th>mjob</th>\n",
       "      <th>fjob</th>\n",
       "      <th>studytime</th>\n",
       "      <th>failures</th>\n",
       "      <th>romantic</th>\n",
       "      <th>schoolsup</th>\n",
       "      <th>higher</th>\n",
       "      <th>goout</th>\n",
       "      <th>absences</th>\n",
       "      <th>score</th>\n",
       "    </tr>\n",
       "  </thead>\n",
       "  <tbody>\n",
       "    <tr>\n",
       "      <th>0</th>\n",
       "      <td>GP</td>\n",
       "      <td>18</td>\n",
       "      <td>F</td>\n",
       "      <td>U</td>\n",
       "      <td>4.0</td>\n",
       "      <td>4.0</td>\n",
       "      <td>at_home</td>\n",
       "      <td>teacher</td>\n",
       "      <td>2.0</td>\n",
       "      <td>0.0</td>\n",
       "      <td>no</td>\n",
       "      <td>yes</td>\n",
       "      <td>yes</td>\n",
       "      <td>4.0</td>\n",
       "      <td>6.0</td>\n",
       "      <td>30.0</td>\n",
       "    </tr>\n",
       "    <tr>\n",
       "      <th>1</th>\n",
       "      <td>GP</td>\n",
       "      <td>17</td>\n",
       "      <td>F</td>\n",
       "      <td>U</td>\n",
       "      <td>1.0</td>\n",
       "      <td>1.0</td>\n",
       "      <td>at_home</td>\n",
       "      <td>other</td>\n",
       "      <td>2.0</td>\n",
       "      <td>0.0</td>\n",
       "      <td>no</td>\n",
       "      <td>no</td>\n",
       "      <td>yes</td>\n",
       "      <td>3.0</td>\n",
       "      <td>4.0</td>\n",
       "      <td>30.0</td>\n",
       "    </tr>\n",
       "    <tr>\n",
       "      <th>2</th>\n",
       "      <td>GP</td>\n",
       "      <td>15</td>\n",
       "      <td>F</td>\n",
       "      <td>U</td>\n",
       "      <td>1.0</td>\n",
       "      <td>1.0</td>\n",
       "      <td>at_home</td>\n",
       "      <td>other</td>\n",
       "      <td>2.0</td>\n",
       "      <td>3.0</td>\n",
       "      <td>NaN</td>\n",
       "      <td>yes</td>\n",
       "      <td>yes</td>\n",
       "      <td>2.0</td>\n",
       "      <td>10.0</td>\n",
       "      <td>50.0</td>\n",
       "    </tr>\n",
       "    <tr>\n",
       "      <th>3</th>\n",
       "      <td>GP</td>\n",
       "      <td>15</td>\n",
       "      <td>F</td>\n",
       "      <td>U</td>\n",
       "      <td>4.0</td>\n",
       "      <td>2.0</td>\n",
       "      <td>health</td>\n",
       "      <td>NaN</td>\n",
       "      <td>3.0</td>\n",
       "      <td>0.0</td>\n",
       "      <td>yes</td>\n",
       "      <td>no</td>\n",
       "      <td>yes</td>\n",
       "      <td>2.0</td>\n",
       "      <td>2.0</td>\n",
       "      <td>75.0</td>\n",
       "    </tr>\n",
       "    <tr>\n",
       "      <th>4</th>\n",
       "      <td>GP</td>\n",
       "      <td>16</td>\n",
       "      <td>F</td>\n",
       "      <td>U</td>\n",
       "      <td>3.0</td>\n",
       "      <td>3.0</td>\n",
       "      <td>other</td>\n",
       "      <td>other</td>\n",
       "      <td>2.0</td>\n",
       "      <td>0.0</td>\n",
       "      <td>no</td>\n",
       "      <td>no</td>\n",
       "      <td>yes</td>\n",
       "      <td>2.0</td>\n",
       "      <td>4.0</td>\n",
       "      <td>50.0</td>\n",
       "    </tr>\n",
       "    <tr>\n",
       "      <th>...</th>\n",
       "      <td>...</td>\n",
       "      <td>...</td>\n",
       "      <td>...</td>\n",
       "      <td>...</td>\n",
       "      <td>...</td>\n",
       "      <td>...</td>\n",
       "      <td>...</td>\n",
       "      <td>...</td>\n",
       "      <td>...</td>\n",
       "      <td>...</td>\n",
       "      <td>...</td>\n",
       "      <td>...</td>\n",
       "      <td>...</td>\n",
       "      <td>...</td>\n",
       "      <td>...</td>\n",
       "      <td>...</td>\n",
       "    </tr>\n",
       "    <tr>\n",
       "      <th>390</th>\n",
       "      <td>MS</td>\n",
       "      <td>20</td>\n",
       "      <td>M</td>\n",
       "      <td>U</td>\n",
       "      <td>2.0</td>\n",
       "      <td>2.0</td>\n",
       "      <td>services</td>\n",
       "      <td>services</td>\n",
       "      <td>2.0</td>\n",
       "      <td>2.0</td>\n",
       "      <td>no</td>\n",
       "      <td>no</td>\n",
       "      <td>yes</td>\n",
       "      <td>4.0</td>\n",
       "      <td>212.0</td>\n",
       "      <td>45.0</td>\n",
       "    </tr>\n",
       "    <tr>\n",
       "      <th>391</th>\n",
       "      <td>MS</td>\n",
       "      <td>17</td>\n",
       "      <td>M</td>\n",
       "      <td>U</td>\n",
       "      <td>3.0</td>\n",
       "      <td>1.0</td>\n",
       "      <td>services</td>\n",
       "      <td>services</td>\n",
       "      <td>1.0</td>\n",
       "      <td>0.0</td>\n",
       "      <td>no</td>\n",
       "      <td>no</td>\n",
       "      <td>yes</td>\n",
       "      <td>5.0</td>\n",
       "      <td>3.0</td>\n",
       "      <td>80.0</td>\n",
       "    </tr>\n",
       "    <tr>\n",
       "      <th>392</th>\n",
       "      <td>MS</td>\n",
       "      <td>21</td>\n",
       "      <td>M</td>\n",
       "      <td>R</td>\n",
       "      <td>1.0</td>\n",
       "      <td>1.0</td>\n",
       "      <td>other</td>\n",
       "      <td>other</td>\n",
       "      <td>1.0</td>\n",
       "      <td>3.0</td>\n",
       "      <td>no</td>\n",
       "      <td>NaN</td>\n",
       "      <td>NaN</td>\n",
       "      <td>3.0</td>\n",
       "      <td>3.0</td>\n",
       "      <td>35.0</td>\n",
       "    </tr>\n",
       "    <tr>\n",
       "      <th>393</th>\n",
       "      <td>MS</td>\n",
       "      <td>18</td>\n",
       "      <td>M</td>\n",
       "      <td>R</td>\n",
       "      <td>3.0</td>\n",
       "      <td>2.0</td>\n",
       "      <td>services</td>\n",
       "      <td>other</td>\n",
       "      <td>1.0</td>\n",
       "      <td>0.0</td>\n",
       "      <td>no</td>\n",
       "      <td>no</td>\n",
       "      <td>yes</td>\n",
       "      <td>1.0</td>\n",
       "      <td>0.0</td>\n",
       "      <td>50.0</td>\n",
       "    </tr>\n",
       "    <tr>\n",
       "      <th>394</th>\n",
       "      <td>MS</td>\n",
       "      <td>19</td>\n",
       "      <td>M</td>\n",
       "      <td>U</td>\n",
       "      <td>1.0</td>\n",
       "      <td>1.0</td>\n",
       "      <td>other</td>\n",
       "      <td>at_home</td>\n",
       "      <td>1.0</td>\n",
       "      <td>0.0</td>\n",
       "      <td>no</td>\n",
       "      <td>NaN</td>\n",
       "      <td>yes</td>\n",
       "      <td>3.0</td>\n",
       "      <td>5.0</td>\n",
       "      <td>45.0</td>\n",
       "    </tr>\n",
       "  </tbody>\n",
       "</table>\n",
       "<p>395 rows × 16 columns</p>\n",
       "</div>"
      ],
      "text/plain": [
       "    school  age sex address  medu  fedu      mjob      fjob  studytime  \\\n",
       "0       GP   18   F       U   4.0   4.0   at_home   teacher        2.0   \n",
       "1       GP   17   F       U   1.0   1.0   at_home     other        2.0   \n",
       "2       GP   15   F       U   1.0   1.0   at_home     other        2.0   \n",
       "3       GP   15   F       U   4.0   2.0    health       NaN        3.0   \n",
       "4       GP   16   F       U   3.0   3.0     other     other        2.0   \n",
       "..     ...  ...  ..     ...   ...   ...       ...       ...        ...   \n",
       "390     MS   20   M       U   2.0   2.0  services  services        2.0   \n",
       "391     MS   17   M       U   3.0   1.0  services  services        1.0   \n",
       "392     MS   21   M       R   1.0   1.0     other     other        1.0   \n",
       "393     MS   18   M       R   3.0   2.0  services     other        1.0   \n",
       "394     MS   19   M       U   1.0   1.0     other   at_home        1.0   \n",
       "\n",
       "     failures romantic schoolsup higher  goout  absences  score  \n",
       "0         0.0       no       yes    yes    4.0       6.0   30.0  \n",
       "1         0.0       no        no    yes    3.0       4.0   30.0  \n",
       "2         3.0      NaN       yes    yes    2.0      10.0   50.0  \n",
       "3         0.0      yes        no    yes    2.0       2.0   75.0  \n",
       "4         0.0       no        no    yes    2.0       4.0   50.0  \n",
       "..        ...      ...       ...    ...    ...       ...    ...  \n",
       "390       2.0       no        no    yes    4.0     212.0   45.0  \n",
       "391       0.0       no        no    yes    5.0       3.0   80.0  \n",
       "392       3.0       no       NaN    NaN    3.0       3.0   35.0  \n",
       "393       0.0       no        no    yes    1.0       0.0   50.0  \n",
       "394       0.0       no       NaN    yes    3.0       5.0   45.0  \n",
       "\n",
       "[395 rows x 16 columns]"
      ]
     },
     "execution_count": 118,
     "metadata": {},
     "output_type": "execute_result"
    }
   ],
   "source": [
    "model = students[['school','age','sex','address', 'medu', 'fedu', 'mjob', 'fjob', 'studytime', 'failures','romantic','schoolsup','higher', 'goout', 'absences', 'score']]\n",
    "model"
   ]
  },
  {
   "cell_type": "code",
   "execution_count": null,
   "metadata": {},
   "outputs": [],
   "source": []
  }
 ],
 "metadata": {
  "kernelspec": {
   "display_name": "Python 3",
   "language": "python",
   "name": "python3"
  },
  "language_info": {
   "codemirror_mode": {
    "name": "ipython",
    "version": 3
   },
   "file_extension": ".py",
   "mimetype": "text/x-python",
   "name": "python",
   "nbconvert_exporter": "python",
   "pygments_lexer": "ipython3",
   "version": "3.7.6"
  }
 },
 "nbformat": 4,
 "nbformat_minor": 4
}
