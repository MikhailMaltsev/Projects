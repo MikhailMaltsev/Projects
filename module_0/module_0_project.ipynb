{
 "cells": [
  {
   "cell_type": "code",
   "execution_count": 13,
   "metadata": {},
   "outputs": [
    {
     "name": "stdout",
     "output_type": "stream",
     "text": [
      "Ваш алгоритм угадывает число в среднем за 6 попыток\n"
     ]
    },
    {
     "data": {
      "text/plain": [
       "6"
      ]
     },
     "execution_count": 13,
     "metadata": {},
     "output_type": "execute_result"
    }
   ],
   "source": [
    "import numpy as np\n",
    "\n",
    "def game_core_v147(number):\n",
    "    '''Угадываем загаданное число через поиск средних значений'''\n",
    "    start = 0\n",
    "    end = 100   \n",
    "    \n",
    "    for count in range(start,end):\n",
    "        predict = (start+end)//2 # Берез середину заданного диапазона.\n",
    "        if number > predict: \n",
    "            start = predict # Двигаем начальное значение диапазона.\n",
    "        elif number < predict:\n",
    "            end = predict # Двигаем конечное значение диапазона.\n",
    "        if number == predict:\n",
    "            break\n",
    "            \n",
    "    return(count+1) # Возвращаем кол-во попыток с поправкой на начало цикла.\n",
    "\n",
    "def score_game(game_core_v147):\n",
    "    '''Запускаем игру 1000 раз, чтобы узнать, как быстро игра угадывает число'''\n",
    "    count_ls = []\n",
    "    np.random.seed(1)  # Фиксируем RANDOM SEED, чтобы ваш эксперимент был воспроизводим!\n",
    "    random_array = np.random.randint(1,101, size=(1000))\n",
    "    \n",
    "    for number in random_array:\n",
    "        count_ls.append(game_core_v147(number))\n",
    "    score = int(np.mean(count_ls))\n",
    "    \n",
    "    print(f\"Ваш алгоритм угадывает число в среднем за {score} попыток\")\n",
    "    return(score)\n",
    "\n",
    "score_game(game_core_v147)"
   ]
  }
 ],
 "metadata": {
  "kernelspec": {
   "display_name": "Python 3",
   "language": "python",
   "name": "python3"
  },
  "language_info": {
   "codemirror_mode": {
    "name": "ipython",
    "version": 3
   },
   "file_extension": ".py",
   "mimetype": "text/x-python",
   "name": "python",
   "nbconvert_exporter": "python",
   "pygments_lexer": "ipython3",
   "version": "3.7.6"
  }
 },
 "nbformat": 4,
 "nbformat_minor": 4
}
